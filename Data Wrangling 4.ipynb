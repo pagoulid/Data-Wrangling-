{
 "cells": [
  {
   "cell_type": "code",
   "execution_count": 56,
   "metadata": {},
   "outputs": [],
   "source": [
    "import json\n",
    "import requests\n",
    "\n",
    "\n",
    "def api_get_req(url):\n",
    "    # In this exercise, you want to call the last.fm API to get a list of the\n",
    "    # top artists in Spain. The grader will supply the URL as an argument to\n",
    "    # the function; you do not need to construct the address or call this\n",
    "    # function in your grader submission.\n",
    "    # \n",
    "    # Once you've done this, return the name of the number 1 top artist in\n",
    "    # Spain. \n",
    "    \n",
    "    s=requests.get(url).text\n",
    "    js = json.loads(s)\n",
    "    test = json.dumps(js,sort_keys = False)\n",
    "    #print(test)\n",
    "    \n",
    "    sol = js['topartists']['artist']\n",
    "    length = len(sol)\n",
    "    fsol = []\n",
    "    for k in range(length):\n",
    "        \n",
    "        fsol.append(sol[k]['name'])\n",
    "    return fsol\n",
    "    \n",
    "     # return the top artist in Spain"
   ]
  },
  {
   "cell_type": "code",
   "execution_count": 57,
   "metadata": {},
   "outputs": [
    {
     "name": "stdout",
     "output_type": "stream",
     "text": [
      "['David Bowie', 'Radiohead', 'Queen', 'Coldplay', 'The Rolling Stones', 'The Beatles', 'Muse', 'The Cure', 'Daft Punk', 'Arctic Monkeys', 'Blur', 'Red Hot Chili Peppers', 'Ed Sheeran', 'Nirvana', 'Sia', 'Pink Floyd', 'Bob Dylan', 'The Weeknd', 'Tame Impala', 'The Strokes', 'U2', 'Adele', 'Calvin Harris', 'Arcade Fire', 'Michael Jackson', 'R.E.M.', 'Depeche Mode', 'Led Zeppelin', 'The Killers', 'Lana Del Rey', 'The xx', 'Major Lazer', 'The Black Keys', 'Foo Fighters', 'Oasis', 'Rihanna', 'Imagine Dragons', 'The Smiths', 'The Clash', 'Gorillaz', 'Florence + the Machine', 'Franz Ferdinand', 'Pixies', 'Beck', 'The White Stripes', 'David Guetta', 'New Order', 'Vetusta Morla', 'Drake', 'Metallica']\n"
     ]
    }
   ],
   "source": [
    "url = 'http://ws.audioscrobbler.com/2.0/?method=geo.gettopartists&country=spain&api_key=2428a65a480351951faa01f6d2ed03f9&format=json'\n",
    "res = api_get_req(url)\n",
    "print(res)"
   ]
  }
 ],
 "metadata": {
  "kernelspec": {
   "display_name": "Python 3",
   "language": "python",
   "name": "python3"
  },
  "language_info": {
   "codemirror_mode": {
    "name": "ipython",
    "version": 3
   },
   "file_extension": ".py",
   "mimetype": "text/x-python",
   "name": "python",
   "nbconvert_exporter": "python",
   "pygments_lexer": "ipython3",
   "version": "3.7.6"
  }
 },
 "nbformat": 4,
 "nbformat_minor": 4
}
