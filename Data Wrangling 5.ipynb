{
 "cells": [
  {
   "cell_type": "code",
   "execution_count": 84,
   "metadata": {},
   "outputs": [],
   "source": [
    "import pandas as pd\n",
    "import numpy as np\n",
    "\n",
    "def imputation(filename):\n",
    "    # Pandas dataframes have a method called 'fillna(value)', such that you can\n",
    "    # pass in a single value to replace any NAs in a dataframe or series. You\n",
    "    # can call it like this: \n",
    "    #     dataframe['column'] = dataframe['column'].fillna(value)\n",
    "    #\n",
    "    # Using the numpy.mean function, which calculates the mean of a numpy\n",
    "    # array, impute any missing values in our Lahman baseball\n",
    "    # data sets 'weight' column by setting them equal to the average weight.\n",
    "    # \n",
    "    # You can access the 'weight' colum in the baseball data frame by\n",
    "    # calling baseball['weight']\n",
    "\n",
    "    baseball = pd.read_csv(filename)\n",
    "    \n",
    "    \n",
    "    Nan = baseball['deathYear'].isnull() # get Series with boolean vals\n",
    "    \n",
    "    checkNan = []\n",
    "    for i in range(len(Nan)): \n",
    "        if Nan[i] == True:\n",
    "             checkNan.append(baseball.index[i])\n",
    "        else :\n",
    "            continue\n",
    "    \n",
    "    \n",
    "    new = baseball.drop(checkNan)\n",
    "    \n",
    "    \n",
    "    \n",
    "    descr = new.describe()\n",
    "    #print(descr)\n",
    "    new['weight'] =new['weight'].fillna(descr['weight']['mean'])\n",
    "    \n",
    "    \n",
    "    \n",
    "    #YOUR CODE GOES HERE\n",
    "    \n",
    "    return new"
   ]
  },
  {
   "cell_type": "code",
   "execution_count": 87,
   "metadata": {},
   "outputs": [
    {
     "name": "stdout",
     "output_type": "stream",
     "text": [
      "    deathYear      weight\n",
      "2      1984.0  190.000000\n",
      "6      1905.0  192.000000\n",
      "7      1957.0  170.000000\n",
      "8      1962.0  175.000000\n",
      "9      1926.0  169.000000\n",
      "10     1930.0  190.000000\n",
      "11     1935.0  180.000000\n",
      "17     1933.0  180.000000\n",
      "19     1993.0  195.000000\n",
      "20     1939.0  175.986176\n",
      "22     2006.0  190.000000\n",
      "24     2001.0  210.000000\n",
      "25     2004.0  215.000000\n",
      "26     1994.0  170.000000\n",
      "27     1973.0  200.000000\n",
      "28     1951.0  200.000000\n",
      "30     1997.0  185.000000\n",
      "31     1986.0  170.000000\n",
      "34     1993.0  160.000000\n",
      "39     1940.0  185.000000\n"
     ]
    }
   ],
   "source": [
    "path = '/home/panosg/Desktop/UDEMY/Data Sciense/baseball/baseballdatabank-master/core/Master.csv'\n",
    "sol = imputation(path)\n",
    "print(sol[['deathYear','weight']][0:20])"
   ]
  }
 ],
 "metadata": {
  "kernelspec": {
   "display_name": "Python 3",
   "language": "python",
   "name": "python3"
  },
  "language_info": {
   "codemirror_mode": {
    "name": "ipython",
    "version": 3
   },
   "file_extension": ".py",
   "mimetype": "text/x-python",
   "name": "python",
   "nbconvert_exporter": "python",
   "pygments_lexer": "ipython3",
   "version": "3.7.6"
  }
 },
 "nbformat": 4,
 "nbformat_minor": 4
}
