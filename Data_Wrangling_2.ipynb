{
 "cells": [
  {
   "cell_type": "code",
   "execution_count": 2,
   "metadata": {},
   "outputs": [],
   "source": [
    "import pandas as pd\n",
    "import pandasql\n",
    "import requests\n",
    "import io"
   ]
  },
  {
   "cell_type": "code",
   "execution_count": 15,
   "metadata": {},
   "outputs": [],
   "source": [
    "def select_first_50(filename):\n",
    "    # Read in our aadhaar_data csv to a pandas dataframe.  Afterwards, we rename the columns\n",
    "    # by replacing spaces with underscores and setting all characters to lowercase, so the\n",
    "    # column names more closely resemble columns names one might find in a table.\n",
    "    s=requests.get(filename).content\n",
    "    aadhaar_data = pd.read_csv(io.StringIO(s.decode('utf-8')))\n",
    "   \n",
    "    aadhaar_data.rename(columns = lambda x: x.replace(' ', '_').lower(), inplace=True)\n",
    "    #print(aadhaar_data.head())\n",
    "\n",
    "    # Select out the first 50 values for \"registrar\" and \"enrolment_agency\"\n",
    "    # in the aadhaar_data table using SQL syntax. \n",
    "    #\n",
    "    # Note that \"enrolment_agency\" is spelled with one l. Also, the order\n",
    "    # of the select does matter. Make sure you select registrar then enrolment agency\n",
    "    # in your query.\n",
    "    #\n",
    "    # You can download a copy of the aadhaar data that we are passing \n",
    "    # into this exercise below:\n",
    "    # https://s3.amazonaws.com/content.udacity-data.com/courses/ud359/aadhaar_data.csv\n",
    "    '''\n",
    "    q = \"\"\"\n",
    "    SELECT registrar,enrolment_agency FROM aadhaar_data   LIMIT 50;\n",
    "    \"\"\"\n",
    "    '''\n",
    "    q = \"\"\"\n",
    "    SELECT registrar,enrolment_agency,state,district,sub_district FROM aadhaar_data   LIMIT 10;\n",
    "    \"\"\"\n",
    "    #Execute your SQL command against the pandas frame\n",
    "    aadhaar_solution = pandasql.sqldf(q.lower(), locals())\n",
    "    \n",
    "    new =pd.DataFrame(columns = aadhaar_solution.columns)\n",
    "    #aadhaar_solution.rename(columns = lambda x: x.replace(' ', '_').lower(), inplace=True)\n",
    "    for i in range(len(aadhaar_solution.index)) :\n",
    "    \n",
    "        #new.loc[i] = [aadhaar_solution['registrar'][i].replace(' ','_').lower() , aadhaar_solution['enrolment_agency'][i].replace(' ','_').lower()]\n",
    "        new.loc[i] = [aadhaar_solution[el][i].replace(' ','_').lower() for el in aadhaar_solution.columns]\n",
    "        \n",
    "    frames = [new,aadhaar_data[['pin_code','gender','age','aadhaar_generated','enrolment_rejected','residents_providing_email','residents_providing_mobile_number']]]\n",
    "    new = pd.concat(frames, axis=1, sort=False)\n",
    "    return new    "
   ]
  },
  {
   "cell_type": "code",
   "execution_count": 17,
   "metadata": {},
   "outputs": [
    {
     "name": "stdout",
     "output_type": "stream",
     "text": [
      "Index(['registrar', 'enrolment_agency', 'state', 'district', 'sub_district',\n",
      "       'pin_code', 'gender', 'age', 'aadhaar_generated', 'enrolment_rejected',\n",
      "       'residents_providing_email', 'residents_providing_mobile_number'],\n",
      "      dtype='object')\n"
     ]
    }
   ],
   "source": [
    "url = 'https://s3.amazonaws.com/content.udacity-data.com/courses/ud359/aadhaar_data.csv'\n",
    "subset=select_first_50(url)\n",
    "print(subset.columns)"
   ]
  }
 ],
 "metadata": {
  "kernelspec": {
   "display_name": "Python 3",
   "language": "python",
   "name": "python3"
  },
  "language_info": {
   "codemirror_mode": {
    "name": "ipython",
    "version": 3
   },
   "file_extension": ".py",
   "mimetype": "text/x-python",
   "name": "python",
   "nbconvert_exporter": "python",
   "pygments_lexer": "ipython3",
   "version": "3.7.6"
  }
 },
 "nbformat": 4,
 "nbformat_minor": 4
}
