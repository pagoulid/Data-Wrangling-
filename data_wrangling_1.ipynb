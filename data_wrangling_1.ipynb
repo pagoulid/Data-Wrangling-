{
 "cells": [
  {
   "cell_type": "code",
   "execution_count": 32,
   "metadata": {},
   "outputs": [],
   "source": [
    "import pandas as pd\n",
    "import numpy as np\n",
    "def add_full_name(path,new_path):\n",
    "    df = pd.read_csv(path)\n",
    "    col = df.columns # 'nameFirst', 'nameLast'\n",
    "    #space = np.full((1,18846),'  ')\n",
    "    #space1 = np.full((1,18846), '` ')\n",
    "    space = np.full((1,18846), ' ` ')\n",
    "    \n",
    "    \n",
    "    df['Fullname'] = df['nameFirst'] + pd.Series(space[0]).array  + df['nameGiven']+ pd.Series(space[0]).array  +df['nameLast']\n",
    "    \n",
    "    del df['nameFirst']\n",
    "    del df['nameLast']\n",
    "    \n",
    "    print(df.Fullname.head())\n",
    "    \n",
    "    \n",
    "    df.to_csv(new_path) \n",
    "    "
   ]
  },
  {
   "cell_type": "code",
   "execution_count": 33,
   "metadata": {},
   "outputs": [
    {
     "name": "stdout",
     "output_type": "stream",
     "text": [
      "0    David ` David Allan ` Aardsma\n",
      "1       Hank ` Henry Louis ` Aaron\n",
      "2      Tommie ` Tommie Lee ` Aaron\n",
      "3      Don ` Donald William ` Aase\n",
      "4      Andy ` Fausto Andres ` Abad\n",
      "Name: Fullname, dtype: object\n"
     ]
    }
   ],
   "source": [
    "if __name__ == '__main__':\n",
    "    \n",
    "    path = '/home/panosg/Desktop/UDEMY/Data Sciense/baseball/baseballdatabank-master/core/Master.csv'\n",
    "    new_path = '/home/panosg/Desktop/UDEMY/Data Sciense/baseball/baseballdatabank-master/Slave.csv'\n",
    "    add_full_name(path,new_path)"
   ]
  }
 ],
 "metadata": {
  "kernelspec": {
   "display_name": "Python 3",
   "language": "python",
   "name": "python3"
  },
  "language_info": {
   "codemirror_mode": {
    "name": "ipython",
    "version": 3
   },
   "file_extension": ".py",
   "mimetype": "text/x-python",
   "name": "python",
   "nbconvert_exporter": "python",
   "pygments_lexer": "ipython3",
   "version": "3.7.6"
  }
 },
 "nbformat": 4,
 "nbformat_minor": 4
}
